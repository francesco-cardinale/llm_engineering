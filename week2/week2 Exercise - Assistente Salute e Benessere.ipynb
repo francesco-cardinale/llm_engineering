{
 "cells": [
  {
   "cell_type": "markdown",
   "id": "d006b2ea-9dfe-49c7-88a9-a5a0775185fd",
   "metadata": {},
   "source": [
    "# 🏋️‍♂️ Assistente per la Salute e il Benessere 🌱  \n",
    "\n",
    "## Descrizione  \n",
    "Questo assistente AI ti aiuta a migliorare il tuo benessere raccogliendo informazioni su di te e fornendo consigli personalizzati su **nutrizione** ed **esercizio fisico**.  \n",
    "\n",
    "## Funzionalità  \n",
    "- 📊 **Calcolo del BMI**: Analizza il tuo indice di massa corporea e fornisce una classificazione.  \n",
    "- 🏃 **Suggerimenti per l'allenamento**: In base ai tuoi obiettivi e livello di attività.  \n",
    "- 🍏 **Consigli nutrizionali**: Linee guida alimentari per supportare il tuo percorso di benessere.  \n",
    "- 📄 **Report riepilogativo**: Genera un documento con il tuo stato di salute e suggerimenti personalizzati.  \n",
    "\n",
    "## Come funziona  \n",
    "1. L'assistente raccoglie i tuoi dati in modo naturale e interattivo.  \n",
    "2. Esegue calcoli e genera suggerimenti in base alle informazioni fornite.  \n",
    "3. Ti guida passo dopo passo nel raggiungere i tuoi obiettivi di fitness e salute.  \n",
    "\n",
    "> ⚠️ *Nota*: L'assistente non fornisce consigli medici. Consulta un professionista per indicazioni personalizzate.  \n"
   ]
  },
  {
   "cell_type": "code",
   "execution_count": 15,
   "id": "c784b018",
   "metadata": {},
   "outputs": [],
   "source": [
    "# imports\n",
    "\n",
    "import os\n",
    "import json\n",
    "from dotenv import load_dotenv\n",
    "from openai import OpenAI\n",
    "import gradio as gr"
   ]
  },
  {
   "cell_type": "code",
   "execution_count": 16,
   "id": "2cc5e247",
   "metadata": {},
   "outputs": [
    {
     "name": "stdout",
     "output_type": "stream",
     "text": [
      "OpenAI API Key exists and begins sk-proj-\n"
     ]
    }
   ],
   "source": [
    "# Initialization\n",
    "\n",
    "load_dotenv()\n",
    "\n",
    "openai_api_key = os.getenv('OPENAI_API_KEY')\n",
    "if openai_api_key:\n",
    "    print(f\"OpenAI API Key exists and begins {openai_api_key[:8]}\")\n",
    "else:\n",
    "    print(\"OpenAI API Key not set\")\n",
    "    \n",
    "MODEL = \"gpt-4o-mini\"\n",
    "openai = OpenAI()"
   ]
  },
  {
   "cell_type": "code",
   "execution_count": 27,
   "id": "a158e24e",
   "metadata": {},
   "outputs": [],
   "source": [
    "###############################################################################\n",
    "# System Prompt\n",
    "###############################################################################\n",
    "system_message = \"\"\"Sei un assistente per la salute e il benessere. Il tuo compito è raccogliere informazioni dagli utenti attraverso domande mirate e fornire suggerimenti personalizzati \n",
    "su esercizi e nutrizione in base ai loro obiettivi. \n",
    "\n",
    "Durante l'onboarding, raccogli le informazioni una alla volta, ponendo una domanda per ogni dato. Chiedi prima il nome, poi usalo per rivolgere all’utente le domande successive, così da apparire più naturale e umano. \n",
    "Le informazioni da raccogliere sono: \n",
    "- Nome \n",
    "- Età \n",
    "- Genere \n",
    "- Altezza (in cm) \n",
    "- Peso (in kg) \n",
    "\n",
    "Dopo aver raccolto tutti i dati, calcola il BMI (Body Mass Index), chiamando la funzione calculate_bmi, e restituisci il risultato all'utente.\n",
    "\n",
    "Fai in modo che il chatbot esegua uno step per volta: prima chiede il nome, poi lo usa per formulare la domanda successiva, e così via fino a raccogliere tutte le informazioni necessarie.\n",
    "\n",
    "Rispondi sempre in modo chiaro, conciso e motivante, incoraggiando l'utente nel suo percorso di benessere. \n",
    "Evita consigli medici specifici e raccomanda di consultare un professionista della salute per piani personalizzati più approfonditi.\"\"\"\n",
    "\n",
    "\n",
    "###############################################################################\n",
    "#- Livello di attività fisica (considerando anche il lavoro attuale)\n",
    "#- Preferenze alimentari \n",
    "#- Obiettivo (es. perdere peso, aumentare la massa muscolare, mantenere la forma fisica) \n",
    "#- Orizzonte temporale per il raggiungimento dell'obiettivo\n",
    "#\n",
    "#Dopo aver raccolto tutti i dati, calcola il BMI (Body Mass Index) e classificalo secondo le categorie standard (sottopeso, normopeso, sovrappeso, obesità). \n",
    "#\n",
    "#Usa queste informazioni per suggerire un programma di esercizi e una linea guida nutrizionale adeguata.\n",
    "#\n",
    "#Infine, genera un report riepilogativo con:\n",
    "#- Il BMI calcolato e la sua classificazione \n",
    "#- Il piano di allenamento suggerito \n",
    "#- Le linee guida nutrizionali \n",
    "#\n",
    "#Il report deve essere chiaro e scaricabile come file di testo. Se l'utente richiede ulteriori dettagli o modifiche al piano, aggiorna le informazioni di conseguenza.\n",
    "#\n",
    "#Fai in modo che il chatbot esegua uno step per volta: prima chiede il nome, poi lo usa per formulare la domanda successiva, e così via fino a raccogliere tutte le informazioni necessarie.\n",
    "#\n",
    "#Rispondi sempre in modo chiaro, conciso e motivante, incoraggiando l'utente nel suo percorso di benessere. Evita consigli medici specifici e raccomanda di consultare un professionista della salute per piani personalizzati più approfonditi.\"\"\"\n"
   ]
  },
  {
   "cell_type": "code",
   "execution_count": 28,
   "id": "a07e7793-b8f5-44f4-aded-5562f633271a",
   "metadata": {},
   "outputs": [],
   "source": [
    "###############################################################################\n",
    "# Helper Functions\n",
    "###############################################################################\n",
    "\n",
    "def calculate_bmi(height, weight):\n",
    "\n",
    "    if height and weight:\n",
    "        bmi = weight / ((height / 100) ** 2)\n",
    "        if bmi < 18.5:\n",
    "            status = \"Sottopeso\"\n",
    "        elif 18.5 <= bmi < 24.9:\n",
    "            status = \"Normopeso\"\n",
    "        elif 25 <= bmi < 29.9:\n",
    "            status = \"Sovrappeso\"\n",
    "        else:\n",
    "            status = \"Obesità\"\n",
    "        return f\"Il tuo BMI è {bmi:.2f}, che è considerato {status}.\"\n",
    "    else:\n",
    "        return \"Mancano informazioni per calcolare il BMI.\"\n",
    "\n",
    "def suggest_exercise(self):\n",
    "    activity_level = self.user_profile.get(\"activity_level\", \"moderate\")\n",
    "    goal = self.user_profile.get(\"goal\", \"fitness\")\n",
    "    \n",
    "    if goal == \"gain muscle\":\n",
    "        return \"Focus on strength training with progressive overload and high-protein intake.\"\n",
    "    elif goal == \"lose weight\":\n",
    "        return \"Incorporate a mix of cardio and resistance training, and maintain a caloric deficit.\"\n",
    "    elif goal == \"maintain fitness\":\n",
    "        return \"Stick to a balanced routine of strength training and moderate cardio.\"\n",
    "    else:\n",
    "        return \"Please provide a goal to get personalized exercise suggestions.\"\n",
    "\n",
    "def suggest_nutrition(self):\n",
    "    dietary_preferences = self.user_profile.get(\"dietary_preferences\", \"balanced\")\n",
    "    goal = self.user_profile.get(\"goal\", \"fitness\")\n",
    "    \n",
    "    if goal == \"gain muscle\":\n",
    "        return \"Increase protein intake with lean meats, eggs, legumes, and consider healthy fats.\"\n",
    "    elif goal == \"lose weight\":\n",
    "        return \"Focus on portion control, high-fiber foods, and lean proteins while reducing processed foods.\"\n",
    "    elif goal == \"maintain fitness\":\n",
    "        return \"Eat a well-balanced diet with a mix of macronutrients in appropriate proportions.\"\n",
    "    else:\n",
    "        return \"Maintain a balanced diet with fruits, vegetables, whole grains, and lean proteins.\"\n",
    "\n",
    "def generate_report(self):\n",
    "    bmi_info = self.calculate_bmi()\n",
    "    exercise_suggestion = self.suggest_exercise()\n",
    "    nutrition_suggestion = self.suggest_nutrition()\n",
    "    report = f\"Health & Wellness Report:\\n{bmi_info}\\nExercise Plan: {exercise_suggestion}\\nNutritional Guidance: {nutrition_suggestion}\\n\"\n",
    "    \n",
    "    with open(\"health_wellness_report.txt\", \"w\") as file:\n",
    "        file.write(report)\n",
    "    \n",
    "    return report\n",
    "    \n",
    "# Example usage:\n",
    "#assistant = HealthWellnessAssistant()\n",
    "#assistant.set_user_profile(age=30, gender=\"male\", height=175, weight=70, activity_level=\"moderate\", dietary_preferences=\"balanced\", goal=\"gain muscle\", timeframe=\"3 months\")\n",
    "#print(assistant.generate_report())\n"
   ]
  },
  {
   "cell_type": "code",
   "execution_count": 34,
   "id": "e8e31f0a",
   "metadata": {},
   "outputs": [],
   "source": [
    "###############################################################################\n",
    "# Tools JSON Schemas\n",
    "###############################################################################\n",
    "bmi_function = {\n",
    "    \"name\": \"calculate_bmi\",\n",
    "    \"description\": \"Calculate BMI based on height and weight.\",\n",
    "    \"parameters\": {\n",
    "        \"type\": \"object\",\n",
    "        \"properties\": {\n",
    "            \"height\": {\n",
    "                \"type\": \"number\",\n",
    "                \"description\": \"height in cm\",\n",
    "            },\n",
    "            \"weight\": {\n",
    "                \"type\": \"number\",\n",
    "                \"description\": \"weight in kg\",\n",
    "            },\n",
    "        },\n",
    "        \"required\": [\"height\", \"weight\"],\n",
    "    },\n",
    "}\n"
   ]
  },
  {
   "cell_type": "code",
   "execution_count": 41,
   "id": "a47e7099",
   "metadata": {},
   "outputs": [],
   "source": [
    "###############################################################################\n",
    "# Handle Tool Calls\n",
    "###############################################################################\n",
    "\n",
    "def handle_tool_call(message):\n",
    "    \"\"\"\n",
    "    The LLM can request to call a function in 'tools'. We parse the JSON arguments\n",
    "    and run the Python function. Then we return a 'tool' message with the result.\n",
    "    \"\"\"\n",
    "    tool_call = message.tool_calls[0]\n",
    "    fn_name   = tool_call.function.name\n",
    "    args      = json.loads(tool_call.function.arguments)\n",
    "\n",
    "    if fn_name == \"calculate_bmi\":\n",
    "        height = args.get(\"height\")\n",
    "        weight = args.get(\"weight\")\n",
    "        bmi = calculate_bmi(height, weight)\n",
    "\n",
    "        response_content = {\n",
    "            \"height\": height,\n",
    "            \"weight\": weight,\n",
    "            \"bmi\": bmi\n",
    "        }\n",
    "        print(response_content)\n",
    "\n",
    "    else:\n",
    "        response_content = {\"error\": f\"Unknown tool: {fn_name}\"}\n",
    "\n",
    "    return {\n",
    "        \"role\": \"tool\",\n",
    "        \"content\": json.dumps(response_content),\n",
    "        \"tool_call_id\": tool_call.id,\n",
    "    }, args"
   ]
  },
  {
   "cell_type": "code",
   "execution_count": 36,
   "id": "c08e591b",
   "metadata": {},
   "outputs": [],
   "source": [
    "###############################################################################\n",
    "# Available Tools\n",
    "###############################################################################\n",
    "tools = [\n",
    "    {\"type\": \"function\", \"function\": bmi_function},\n",
    "]\n"
   ]
  },
  {
   "cell_type": "code",
   "execution_count": 37,
   "id": "e98fc515",
   "metadata": {},
   "outputs": [],
   "source": [
    "###############################################################################\n",
    "# Main Chat Function\n",
    "###############################################################################\n",
    "def chat(message, history):\n",
    "    \"\"\"\n",
    "    The main chat loop that handles the conversation with the user,\n",
    "    passing 'tools' definitions to the LLM for function calling.\n",
    "    \"\"\"\n",
    "    messages = [{\"role\": \"system\", \"content\": system_message}] + history + [{\"role\": \"user\", \"content\": message}]\n",
    "\n",
    "    try:\n",
    "        response = openai.chat.completions.create(\n",
    "            model=MODEL,\n",
    "            messages=messages,\n",
    "            tools=tools\n",
    "        )\n",
    "\n",
    "        # If the LLM requests a function call, handle it\n",
    "        while response.choices[0].finish_reason == \"tool_calls\":\n",
    "            msg = response.choices[0].message\n",
    "            print(f\"[INFO] Tool call requested: {msg.tool_calls[0]}\")\n",
    "            tool_response, tool_args = handle_tool_call(msg)\n",
    "            print(f\"[INFO] Tool response: {tool_response}\")\n",
    "\n",
    "            # Add both the LLM's request and our tool response to the conversation\n",
    "            messages.append(msg)\n",
    "            messages.append(tool_response)\n",
    "\n",
    "            # Re-send updated conversation to get final or next step\n",
    "            response = openai.chat.completions.create(\n",
    "                model=MODEL,\n",
    "                messages=messages\n",
    "            )\n",
    "\n",
    "        # Return normal text response (finish_reason = \"stop\")\n",
    "        return response.choices[0].message.content\n",
    "\n",
    "    except Exception as e:\n",
    "        print(f\"[ERROR] {e}\")\n",
    "        return \"I'm sorry, something went wrong while processing your request.\""
   ]
  },
  {
   "cell_type": "code",
   "execution_count": 42,
   "id": "909f8fd2",
   "metadata": {},
   "outputs": [
    {
     "name": "stdout",
     "output_type": "stream",
     "text": [
      "* Running on local URL:  http://127.0.0.1:7871\n",
      "\n",
      "To create a public link, set `share=True` in `launch()`.\n"
     ]
    },
    {
     "data": {
      "text/html": [
       "<div><iframe src=\"http://127.0.0.1:7871/\" width=\"100%\" height=\"500\" allow=\"autoplay; camera; microphone; clipboard-read; clipboard-write;\" frameborder=\"0\" allowfullscreen></iframe></div>"
      ],
      "text/plain": [
       "<IPython.core.display.HTML object>"
      ]
     },
     "metadata": {},
     "output_type": "display_data"
    },
    {
     "data": {
      "text/plain": []
     },
     "execution_count": 42,
     "metadata": {},
     "output_type": "execute_result"
    },
    {
     "name": "stdout",
     "output_type": "stream",
     "text": [
      "[INFO] Tool call requested: ChatCompletionMessageToolCall(id='call_11y8VnXgKnehg0rTWk4v4ZYa', function=Function(arguments='{\"height\":187,\"weight\":99}', name='calculate_bmi'), type='function')\n",
      "{'height': 187, 'weight': 99, 'bmi': 'Il tuo BMI è 28.31, che è considerato Sovrappeso.'}\n",
      "[INFO] Tool response: {'role': 'tool', 'content': '{\"height\": 187, \"weight\": 99, \"bmi\": \"Il tuo BMI \\\\u00e8 28.31, che \\\\u00e8 considerato Sovrappeso.\"}', 'tool_call_id': 'call_11y8VnXgKnehg0rTWk4v4ZYa'}\n"
     ]
    }
   ],
   "source": [
    "###############################################################################\n",
    "# Launch Gradio\n",
    "###############################################################################\n",
    "gr.ChatInterface(fn=chat, type=\"messages\").launch()"
   ]
  }
 ],
 "metadata": {
  "kernelspec": {
   "display_name": "Python 3",
   "language": "python",
   "name": "python3"
  },
  "language_info": {
   "codemirror_mode": {
    "name": "ipython",
    "version": 3
   },
   "file_extension": ".py",
   "mimetype": "text/x-python",
   "name": "python",
   "nbconvert_exporter": "python",
   "pygments_lexer": "ipython3",
   "version": "3.11.11"
  }
 },
 "nbformat": 4,
 "nbformat_minor": 5
}
