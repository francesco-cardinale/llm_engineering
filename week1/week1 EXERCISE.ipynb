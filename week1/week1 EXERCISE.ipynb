{
 "cells": [
  {
   "cell_type": "markdown",
   "id": "fe12c203-e6a6-452c-a655-afb8a03a4ff5",
   "metadata": {},
   "source": [
    "# End of week 1 exercise\n",
    "\n",
    "To demonstrate your familiarity with OpenAI API, and also Ollama, build a tool that takes a technical question,  \n",
    "and responds with an explanation. This is a tool that you will be able to use yourself during the course!"
   ]
  },
  {
   "cell_type": "code",
   "execution_count": 24,
   "id": "c1070317-3ed9-4659-abe3-828943230e03",
   "metadata": {},
   "outputs": [],
   "source": [
    "# imports\n",
    "from dotenv import load_dotenv\n",
    "from openai import OpenAI \n",
    "import ollama\n",
    "from IPython.display import Markdown, display, update_display"
   ]
  },
  {
   "cell_type": "code",
   "execution_count": 3,
   "id": "4a456906-915a-4bfd-bb9d-57e505c5093f",
   "metadata": {},
   "outputs": [],
   "source": [
    "# constants\n",
    "\n",
    "MODEL_GPT = 'gpt-4o-mini'\n",
    "MODEL_LLAMA = 'llama3.2'"
   ]
  },
  {
   "cell_type": "code",
   "execution_count": 4,
   "id": "a8d7923c-5f28-4c30-8556-342d7c8497c1",
   "metadata": {},
   "outputs": [],
   "source": [
    "# set up environment\n",
    "load_dotenv()\n",
    "openai = OpenAI()\n"
   ]
  },
  {
   "cell_type": "code",
   "execution_count": 6,
   "id": "3f0d0137-52b0-47a8-81a8-11a90a010798",
   "metadata": {},
   "outputs": [],
   "source": [
    "# here is the question; type over this to ask something new\n",
    "\n",
    "question = \"\"\"\n",
    "Please explain what this code does and why:\n",
    "yield from {book.get(\"author\") for book in books if book.get(\"author\")}\n",
    "\"\"\""
   ]
  },
  {
   "cell_type": "code",
   "execution_count": 7,
   "id": "1edcdb26",
   "metadata": {},
   "outputs": [],
   "source": [
    "# prompts\n",
    "\n",
    "system_prompt = \"You are an helpful technical tutor who answers questions about python, code, software engineering, data science and LLMs\"\n",
    "user_prompt = \"Please give a detailed explanation to the following question \" + question "
   ]
  },
  {
   "cell_type": "code",
   "execution_count": 9,
   "id": "811daaa9",
   "metadata": {},
   "outputs": [],
   "source": [
    "# messages\n",
    "\n",
    "messages = [\n",
    "    {\"role\": \"system\", \"content\": system_prompt},\n",
    "    {\"role\": \"user\", \"content\": user_prompt}\n",
    "]"
   ]
  },
  {
   "cell_type": "code",
   "execution_count": 14,
   "id": "be9c53f4",
   "metadata": {},
   "outputs": [
    {
     "data": {
      "text/markdown": [
       "The line of code you've provided uses Python's `yield` statement along with a generator expression to produce values from a set comprehension. Let's break it down step by step to understand its functionality, context, and purpose.\n",
       "\n",
       "### Breakdown of the Code\n",
       "\n",
       "1. **Context**:\n",
       "   - This line of code is typically found inside a function defined as a generator, indicated by the use of `yield`. Generator functions allow you to iterate over data without loading everything into memory at once.\n",
       "\n",
       "2. **`yield from`**:\n",
       "   - The `yield from` syntax is used to yield all values from an iterable; in this case, from a set comprehension. It means that the generator will produce each value from the iterable one at a time.\n",
       "   - In the context of a generator, `yield` sends a value back to the caller and pauses the function’s state, allowing it to be resumed later.\n",
       "\n",
       "3. **Set Comprehension `{... for ... in ...}`**:\n",
       "   - The expression `{book.get(\"author\") for book in books if book.get(\"author\")}` is a set comprehension that creates a set of authors.\n",
       "   - `books` is assumed to be a collection (like a list) of dictionaries where each dictionary represents a book with attributes for that book.\n",
       "\n",
       "4. **`book.get(\"author\")`**:\n",
       "   - `book.get(\"author\")` is used to safely access the `\"author\"` key in the `book` dictionary. If the key exists, it returns the value (the author's name); if it doesn’t, it will return `None` (or a default value if specified).\n",
       "   - This method is preferred over direct dictionary key access (i.e., `book[\"author\"]`) because it prevents a `KeyError` if the key is not found.\n",
       "\n",
       "5. **Filtering**: \n",
       "   - The `if book.get(\"author\")` at the end serves as a filter. It checks if the author exists (i.e., is not `None` or another falsy value) before including it in the set. This ensures that only books with valid, non-empty authors are considered.\n",
       "\n",
       "### Full Explanation of Functionality\n",
       "\n",
       "Putting it all together, the line essentially does this:\n",
       "- It iterates over a collection of `books`, which are expected to be dictionaries (for example, `books = [{'author': 'Author One'}, {'author': None}, {'author': 'Author Two'}]`).\n",
       "- For each `book`, it attempts to retrieve the value associated with the `\"author\"` key. If an author exists (the value is not `None`), it is included in a set.\n",
       "- The use of a set ensures that authors are unique; if the same author appears in multiple books, they will only be present once in the resulting set.\n",
       "- Finally, `yield from` yields each unique author one at a time to the caller of the generator function.\n",
       "\n",
       "### Why Would You Use This Code?\n",
       "\n",
       "- **Memory Efficiency**: Using a generator prevents loading all authors into memory at once—this is especially useful when dealing with a large collection of books.\n",
       "- **Uniqueness**: The set comprehension is used to ensure that only unique authors are returned.\n",
       "- **Convenience**: By using `yield from`, the function can output values iteratively, making it flexible for the caller to process each author on-the-fly rather than waiting for an entire collection.\n",
       "\n",
       "### Example Usage\n",
       "\n",
       "Here’s a small example of how this might look in practice:\n",
       "\n",
       "python\n",
       "def get_unique_authors(books):\n",
       "    yield from {book.get(\"author\") for book in books if book.get(\"author\")}\n",
       "\n",
       "# Example books list\n",
       "books = [\n",
       "    {\"title\": \"Book A\", \"author\": \"Author One\"},\n",
       "    {\"title\": \"Book B\", \"author\": None},\n",
       "    {\"title\": \"Book C\", \"author\": \"Author Two\"},\n",
       "    {\"title\": \"Book D\", \"author\": \"Author One\"},  # Duplicate\n",
       "]\n",
       "\n",
       "# Calling the generator\n",
       "for author in get_unique_authors(books):\n",
       "    print(author)\n",
       "\n",
       "\n",
       "Output:\n",
       "\n",
       "Author One\n",
       "Author Two\n",
       "\n",
       "\n",
       "In this example, when the function `get_unique_authors` is called with a list of books, the generator yields each unique author present in the list, while leaving out any entries without an author (like in \"Book B\")."
      ],
      "text/plain": [
       "<IPython.core.display.Markdown object>"
      ]
     },
     "metadata": {},
     "output_type": "display_data"
    }
   ],
   "source": [
    "# Get gpt-4o-mini to answer, with streaming\n",
    "\n",
    "stream = openai.chat.completions.create(model=MODEL_GPT, messages=messages, stream=True)\n",
    "\n",
    "response = \"\"\n",
    "display_handle = display(Markdown(\"\"), display_id=True)\n",
    "for chunk in stream:\n",
    "    response += chunk.choices[0].delta.content or ''\n",
    "    response = response.replace(\"```\",\"\").replace(\"markdown\", \"\")\n",
    "    update_display(Markdown(response), display_id=display_handle.display_id)"
   ]
  },
  {
   "cell_type": "code",
   "execution_count": 25,
   "id": "8f7c8ea8-4082-4ad0-8751-3301adcf6538",
   "metadata": {},
   "outputs": [
    {
     "data": {
      "text/markdown": [
       "**Code Explanation**\n",
       "\n",
       "The provided code is using Python's yield from keyword, which allows us to simplify complex iteration logic.\n",
       "\n",
       "Here's a breakdown of the code:\n",
       "\n",
       "1. `yield from`: This keyword is used to create an iterator that yields values from another iterable.\n",
       "2. `{book.get(\"author\") for book in books if book.get(\"author\")}`: This is a generator expression. A generator expression is similar to a list comprehension, but it returns an iterator instead of a list.\n",
       "\n",
       "The generator expression does the following:\n",
       "\n",
       "* Iterates over each `book` in the `books` collection.\n",
       "* For each `book`, it checks if the book has an \"author\" key using the `get()` method. If the key exists and its value is truthy, the author's name is yielded from the iterator.\n",
       "\n",
       "**Why this code is used**\n",
       "\n",
       "This code is often used when you need to iterate over a collection of items, but only consider those that meet certain conditions. In this case, we're filtering books based on their \"author\" key existence.\n",
       "\n",
       "The `yield from` keyword simplifies this logic because it:\n",
       "\n",
       "* Allows us to avoid creating an intermediate list or iterator that includes all books, even if they don't have the desired attribute.\n",
       "* Ensures that only valid book authors are yielded, which can be more memory-efficient for large datasets.\n",
       "\n",
       "**Example Use Case**\n",
       "\n",
       "Suppose you have a collection of books and want to iterate over their authors. You could use this code as follows:\n",
       "\n",
       "```python\n",
       "books = [\n",
       "    {\"title\": \"Book 1\", \"author\": \"Author A\"},\n",
       "    {\"title\": \"Book 2\", \"author\": None},\n",
       "    {\"title\": \"Book 3\", \"author\": \"Author C\"}\n",
       "]\n",
       "\n",
       "for author in yield from {book.get(\"author\") for book in books if book.get(\"author\")]:\n",
       "    print(author)\n",
       "```\n",
       "\n",
       "This code will output:\n",
       "\n",
       "```\n",
       "Author A\n",
       "Author C\n",
       "```\n",
       "\n",
       "Because we're only considering books with non-None authors.\n",
       "\n",
       "**Alternative Code**\n",
       "\n",
       "If you prefer a more traditional for loop, the same logic can be achieved using a for loop and an if condition. Here's how:\n",
       "\n",
       "```python\n",
       "for book in books:\n",
       "    if \"author\" in book and book[\"author\"] is not None:\n",
       "        print(book.get(\"author\"))\n",
       "```\n",
       "\n",
       "However, as shown earlier, the `yield from` keyword provides a more concise and readable way to express this logic."
      ],
      "text/plain": [
       "<IPython.core.display.Markdown object>"
      ]
     },
     "metadata": {},
     "output_type": "display_data"
    }
   ],
   "source": [
    "# Get Llama 3.2 to answer\n",
    "\n",
    "response = ollama.chat(model=MODEL_LLAMA, messages=messages)\n",
    "reply = response['message']['content']\n",
    "display(Markdown(reply))"
   ]
  }
 ],
 "metadata": {
  "kernelspec": {
   "display_name": "llms",
   "language": "python",
   "name": "python3"
  },
  "language_info": {
   "codemirror_mode": {
    "name": "ipython",
    "version": 3
   },
   "file_extension": ".py",
   "mimetype": "text/x-python",
   "name": "python",
   "nbconvert_exporter": "python",
   "pygments_lexer": "ipython3",
   "version": "3.11.11"
  }
 },
 "nbformat": 4,
 "nbformat_minor": 5
}
