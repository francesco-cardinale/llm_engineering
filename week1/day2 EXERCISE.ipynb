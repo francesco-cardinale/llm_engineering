{
 "cells": [
  {
   "cell_type": "markdown",
   "id": "d15d8294-3328-4e07-ad16-8a03e9bbfdb9",
   "metadata": {},
   "source": [
    "# Welcome to your first assignment!\n",
    "\n",
    "Instructions are below. Please give this a try, and look in the solutions folder if you get stuck (or feel free to ask me!)"
   ]
  },
  {
   "cell_type": "markdown",
   "id": "ada885d9-4d42-4d9b-97f0-74fbbbfe93a9",
   "metadata": {},
   "source": [
    "<table style=\"margin: 0; text-align: left;\">\n",
    "    <tr>\n",
    "        <td style=\"width: 150px; height: 150px; vertical-align: middle;\">\n",
    "            <img src=\"../resources.jpg\" width=\"150\" height=\"150\" style=\"display: block;\" />\n",
    "        </td>\n",
    "        <td>\n",
    "            <h2 style=\"color:#f71;\">Just before we get to the assignment --</h2>\n",
    "            <span style=\"color:#f71;\">I thought I'd take a second to point you at this page of useful resources for the course. This includes links to all the slides.<br/>\n",
    "            <a href=\"https://edwarddonner.com/2024/11/13/llm-engineering-resources/\">https://edwarddonner.com/2024/11/13/llm-engineering-resources/</a><br/>\n",
    "            Please keep this bookmarked, and I'll continue to add more useful links there over time.\n",
    "            </span>\n",
    "        </td>\n",
    "    </tr>\n",
    "</table>"
   ]
  },
  {
   "cell_type": "markdown",
   "id": "6e9fa1fc-eac5-4d1d-9be4-541b3f2b3458",
   "metadata": {},
   "source": [
    "# HOMEWORK EXERCISE ASSIGNMENT\n",
    "\n",
    "Upgrade the day 1 project to summarize a webpage to use an Open Source model running locally via Ollama rather than OpenAI\n",
    "\n",
    "You'll be able to use this technique for all subsequent projects if you'd prefer not to use paid APIs.\n",
    "\n",
    "**Benefits:**\n",
    "1. No API charges - open-source\n",
    "2. Data doesn't leave your box\n",
    "\n",
    "**Disadvantages:**\n",
    "1. Significantly less power than Frontier Model\n",
    "\n",
    "## Recap on installation of Ollama\n",
    "\n",
    "Simply visit [ollama.com](https://ollama.com) and install!\n",
    "\n",
    "Once complete, the ollama server should already be running locally.  \n",
    "If you visit:  \n",
    "[http://localhost:11434/](http://localhost:11434/)\n",
    "\n",
    "You should see the message `Ollama is running`.  \n",
    "\n",
    "If not, bring up a new Terminal (Mac) or Powershell (Windows) and enter `ollama serve`  \n",
    "And in another Terminal (Mac) or Powershell (Windows), enter `ollama pull llama3.2`  \n",
    "Then try [http://localhost:11434/](http://localhost:11434/) again.\n",
    "\n",
    "If Ollama is slow on your machine, try using `llama3.2:1b` as an alternative. Run `ollama pull llama3.2:1b` from a Terminal or Powershell, and change the code below from `MODEL = \"llama3.2\"` to `MODEL = \"llama3.2:1b\"`"
   ]
  },
  {
   "cell_type": "code",
   "execution_count": 1,
   "id": "4e2a9393-7767-488e-a8bf-27c12dca35bd",
   "metadata": {},
   "outputs": [],
   "source": [
    "# imports\n",
    "\n",
    "import requests\n",
    "from bs4 import BeautifulSoup\n",
    "from IPython.display import Markdown, display"
   ]
  },
  {
   "cell_type": "code",
   "execution_count": 2,
   "id": "29ddd15d-a3c5-4f4e-a678-873f56162724",
   "metadata": {},
   "outputs": [],
   "source": [
    "# Constants\n",
    "\n",
    "OLLAMA_API = \"http://localhost:11434/api/chat\"\n",
    "HEADERS = {\"Content-Type\": \"application/json\"}\n",
    "MODEL = \"llama3.2:1b\""
   ]
  },
  {
   "cell_type": "code",
   "execution_count": 3,
   "id": "dac0a679-599c-441f-9bf2-ddc73d35b940",
   "metadata": {},
   "outputs": [],
   "source": [
    "# Create a messages list using the same format that we used for OpenAI\n",
    "\n",
    "messages = [\n",
    "    {\"role\": \"user\", \"content\": \"Describe some of the business applications of Generative AI\"}\n",
    "]"
   ]
  },
  {
   "cell_type": "code",
   "execution_count": 4,
   "id": "7bb9c624-14f0-4945-a719-8ddb64f66f47",
   "metadata": {},
   "outputs": [],
   "source": [
    "payload = {\n",
    "        \"model\": MODEL,\n",
    "        \"messages\": messages,\n",
    "        \"stream\": False\n",
    "    }"
   ]
  },
  {
   "cell_type": "code",
   "execution_count": 6,
   "id": "479ff514-e8bd-4985-a572-2ea28bb4fa40",
   "metadata": {},
   "outputs": [
    {
     "name": "stderr",
     "output_type": "stream",
     "text": [
      "\u001b[?25lpulling manifest ⠋ \u001b[?25h\u001b[?25l\u001b[2K\u001b[1Gpulling manifest ⠙ \u001b[?25h\u001b[?25l\u001b[2K\u001b[1Gpulling manifest ⠹ \u001b[?25h\u001b[?25l\u001b[2K\u001b[1Gpulling manifest ⠸ \u001b[?25h\u001b[?25l\u001b[2K\u001b[1Gpulling manifest ⠼ \u001b[?25h\u001b[?25l\u001b[2K\u001b[1Gpulling manifest \n",
      "pulling 74701a8c35f6... 100% ▕████████████████▏ 1.3 GB                         \n",
      "pulling 966de95ca8a6... 100% ▕████████████████▏ 1.4 KB                         \n",
      "pulling fcc5a6bec9da... 100% ▕████████████████▏ 7.7 KB                         \n",
      "pulling a70ff7e570d9... 100% ▕████████████████▏ 6.0 KB                         \n",
      "pulling 4f659a1e86d7... 100% ▕████████████████▏  485 B                         \n",
      "verifying sha256 digest \n",
      "writing manifest \n",
      "success \u001b[?25h\n"
     ]
    }
   ],
   "source": [
    "# Let's just make sure the model is loaded\n",
    "\n",
    "!ollama pull llama3.2:1b"
   ]
  },
  {
   "cell_type": "code",
   "execution_count": 9,
   "id": "42b9f644-522d-4e05-a691-56e7658c0ea9",
   "metadata": {},
   "outputs": [
    {
     "name": "stdout",
     "output_type": "stream",
     "text": [
      "Generative AI, which involves creating content or models using algorithms and data, has numerous business applications across various industries. Here are some examples:\n",
      "\n",
      "1. **Content creation**: Generative AI can help businesses create high-quality, personalized content such as product descriptions, blog posts, social media captions, and even entire marketing campaigns.\n",
      "2. **Virtual assistants**: AI-powered virtual assistants like Alexa, Google Assistant, or Siri can learn a user's preferences and habits to provide more tailored support and suggestions.\n",
      "3. **Design and architecture**: Generative AI can be used to create designs for buildings, products, and other structures, reducing the need for human designers and architects.\n",
      "4. **Marketing and advertising**: Generative AI can help create personalized marketing materials such as ad copy, email campaigns, and social media posts that are tailored to individual users' preferences and behaviors.\n",
      "5. **Customer service chatbots**: AI-powered chatbots using generative models can respond to customer inquiries, provide support, and even resolve simple issues on their own.\n",
      "6. **Content moderation**: Generative AI can help automate the process of detecting and removing hate speech, malware, or other forms of objectionable content from online platforms.\n",
      "7. **Recommendation systems**: AI-powered recommendation engines using generative models can suggest products, services, or content to users based on their past behavior and preferences.\n",
      "8. **Education and training**: Generative AI can create personalized learning materials such as adaptive textbooks, interactive simulations, and virtual labs for students.\n",
      "9. **Healthcare and medical research**: Generative AI can help analyze large datasets, identify patterns, and make predictions related to patient outcomes, disease diagnosis, and treatment planning.\n",
      "10. **Product development**: Generative AI can assist designers in creating prototypes, testing product ideas, and iterating on designs based on user feedback.\n",
      "11. **Digital twins**: AI-powered digital twins can simulate real-world environments, optimize resource usage, and predict maintenance needs for buildings, infrastructure, and other assets.\n",
      "12. **Financial services**: Generative AI can help with tasks such as risk analysis, portfolio optimization, and fraud detection in financial institutions.\n",
      "\n",
      "These are just a few examples of the business applications of generative AI. As this technology continues to evolve, we can expect to see even more innovative uses across various industries.\n"
     ]
    }
   ],
   "source": [
    "# If this doesn't work for any reason, try the 2 versions in the following cells\n",
    "# And double check the instructions in the 'Recap on installation of Ollama' at the top of this lab\n",
    "# And if none of that works - contact me!\n",
    "\n",
    "response = requests.post(OLLAMA_API, json=payload, headers=HEADERS)\n",
    "print(response.json()['message']['content'])"
   ]
  },
  {
   "cell_type": "markdown",
   "id": "6a021f13-d6a1-4b96-8e18-4eae49d876fe",
   "metadata": {},
   "source": [
    "# Introducing the ollama package\n",
    "\n",
    "And now we'll do the same thing, but using the elegant ollama python package instead of a direct HTTP call.\n",
    "\n",
    "Under the hood, it's making the same call as above to the ollama server running at localhost:11434"
   ]
  },
  {
   "cell_type": "code",
   "execution_count": 10,
   "id": "7745b9c4-57dc-4867-9180-61fa5db55eb8",
   "metadata": {},
   "outputs": [
    {
     "name": "stdout",
     "output_type": "stream",
     "text": [
      "Generative AI has numerous business applications across various industries. Here are some examples:\n",
      "\n",
      "1. **Content Creation**: Generative AI can help businesses create high-quality content, such as articles, social media posts, and product descriptions, quickly and efficiently. This can save time and resources for content creators, who may not have the expertise or skills to produce high-quality content.\n",
      "2. **Product Design**: Generative AI can assist in product design by generating concepts, prototypes, and even entire products based on user inputs and preferences. This can be particularly useful for industries like fashion, furniture, and home decor.\n",
      "3. **Customer Experience Optimization**: By analyzing customer data and behavior, generative AI can help businesses optimize their customer experience. For example, it can suggest personalized recommendations, product suggestions, or even entire customer journeys.\n",
      "4. **Marketing Automation**: Generative AI can be used to automate marketing tasks such as lead generation, email campaigns, and social media content creation. This can help businesses save time and resources while improving the effectiveness of their marketing efforts.\n",
      "5. **Supply Chain Management**: Generative AI can assist in supply chain optimization by analyzing data from various sources (e.g., transportation schedules, inventory levels, and supplier performance) to predict demand and identify potential bottlenecks.\n",
      "6. **Predictive Maintenance**: By analyzing sensor data from machines and equipment, generative AI can help businesses predict when maintenance is needed, reducing downtime and increasing overall efficiency.\n",
      "7. **Risk Management**: Generative AI can be used to model complex systems and identify potential risks or threats. This can help businesses make more informed decisions and mitigate potential losses.\n",
      "8. **Employee Training and Development**: Generative AI can assist in creating personalized training programs for employees by generating customized content, such as tutorials, videos, and interactive simulations.\n",
      "9. **Research and Development**: Generative AI can be used to simulate complex experiments, analyze large datasets, and identify patterns or trends that may not be possible with human researchers alone.\n",
      "10. **Business Process Automation**: Generative AI can help businesses automate repetitive tasks, such as data entry, bookkeeping, and other administrative tasks, freeing up resources for more strategic and creative work.\n",
      "\n",
      "These are just a few examples of the business applications of generative AI. As the technology continues to evolve, we can expect to see even more innovative uses across various industries.\n"
     ]
    }
   ],
   "source": [
    "import ollama\n",
    "\n",
    "response = ollama.chat(model=MODEL, messages=messages)\n",
    "print(response['message']['content'])"
   ]
  },
  {
   "cell_type": "markdown",
   "id": "a4704e10-f5fb-4c15-a935-f046c06fb13d",
   "metadata": {},
   "source": [
    "## Alternative approach - using OpenAI python library to connect to Ollama"
   ]
  },
  {
   "cell_type": "code",
   "execution_count": 11,
   "id": "23057e00-b6fc-4678-93a9-6b31cb704bff",
   "metadata": {},
   "outputs": [
    {
     "name": "stdout",
     "output_type": "stream",
     "text": [
      "Generative AI has numerous business applications across various industries, leveraging its capabilities to create novel solutions. Here are some examples:\n",
      "\n",
      "1. **Content Creation**: Generative AI can be used to generate high-quality content such as articles, product descriptions, and even entire websites for clients without the need for extensive writing or design expertise.\n",
      "\n",
      "2. **Marketing Automation**: AI-driven generative content can assist in the creation of personalized marketing messages, social media posts, and ad copy based on customer data, preferences, and behavior.\n",
      "\n",
      "3. **Data Visualization**: Generative AI models can analyze large datasets to identify patterns and generate visualizations (e.g., heatmaps, dashboards) that help organizations make data-driven decisions or communicate insights better.\n",
      "\n",
      "4. **Product Design**: Generative AI systems can create innovative product designs by combining elements from various catalogs of furniture, electronics or fashion components to create unique items and entirely new products that were not possible for designers with their expertise.\n",
      "\n",
      "5. **Financial Modeling**: By using generative AI for financial modeling, companies such as investment banks and insurance providers can automate tasks such as data analysis and forecasting, potentially leading to better decision-making processes.\n",
      "\n",
      "6. **Chatbots Development**: Generative AI models are being used to create more conversational and human-like chatbot interfaces with the goal of improving customer support services and increasing efficiency in various industries.\n",
      "\n",
      "7. **Predictive Maintenance**: A technology based on generative AI can predict when an aircraft or a machine may fail, enabling maintenance scheduling that minimizes downtime for production.\n",
      "\n",
      "8. **Healthcare Research**: The application of generative AI in healthcare research helps identify unknown correlations between genes and diseases to develop more effective medicines and treatments.\n",
      "\n",
      "9. **Supply Chain Optimization**: Using insights generated by Generative AI about global market trends, potential disruptions, and resource availability can aid companies in optimizing their logistics operations for increased efficiency and reduced waste.\n",
      "\n",
      "10. **Cybersecurity Threat Detection**: Automated models trained by generative AI are being developed to predict attacks in real time based on data from networks to enhance security awareness among cybercrime perpetrators.\n"
     ]
    }
   ],
   "source": [
    "# There's actually an alternative approach that some people might prefer\n",
    "# You can use the OpenAI client python library to call Ollama:\n",
    "\n",
    "from openai import OpenAI\n",
    "ollama_via_openai = OpenAI(base_url='http://localhost:11434/v1', api_key='ollama')\n",
    "\n",
    "response = ollama_via_openai.chat.completions.create(\n",
    "    model=MODEL,\n",
    "    messages=messages\n",
    ")\n",
    "\n",
    "print(response.choices[0].message.content)"
   ]
  },
  {
   "cell_type": "markdown",
   "id": "1622d9bb-5c68-4d4e-9ca4-b492c751f898",
   "metadata": {},
   "source": [
    "# NOW the exercise for you\n",
    "\n",
    "Take the code from day1 and incorporate it here, to build a website summarizer that uses Llama 3.2 running locally instead of OpenAI; use either of the above approaches."
   ]
  },
  {
   "cell_type": "code",
   "execution_count": 16,
   "id": "402d5686-4e76-4110-b65a-b3906c35c0a4",
   "metadata": {},
   "outputs": [],
   "source": [
    "headers = {\n",
    " \"User-Agent\": \"Mozilla/5.0 (Windows NT 10.0; Win64; x64) AppleWebKit/537.36 (KHTML, like Gecko) Chrome/117.0.0.0 Safari/537.36\"\n",
    "}\n",
    "\n",
    "class Website:\n",
    "\n",
    "    def __init__(self, url):\n",
    "        \"\"\"\n",
    "        Create this Website object from the given url using the BeautifulSoup library\n",
    "        \"\"\"\n",
    "        self.url = url\n",
    "        response = requests.get(url, headers=headers)\n",
    "        soup = BeautifulSoup(response.content, 'html.parser')\n",
    "        self.title = soup.title.string if soup.title else \"No title found\"\n",
    "        for irrelevant in soup.body([\"script\", \"style\", \"img\", \"input\"]):\n",
    "            irrelevant.decompose()\n",
    "        self.text = soup.body.get_text(separator=\"\\n\", strip=True)"
   ]
  },
  {
   "cell_type": "code",
   "execution_count": 38,
   "id": "7e63d716",
   "metadata": {},
   "outputs": [],
   "source": [
    "website = Website(\"https://www.sahilbloom.com/newsletter/my-honest-advice-to-someone-who-wants-to-make-a-lot-of-money\")"
   ]
  },
  {
   "cell_type": "code",
   "execution_count": 39,
   "id": "0b7af1d6",
   "metadata": {},
   "outputs": [],
   "source": [
    "system_prompt = \"You are an assistant that analyzes the contents of a website \\\n",
    "and provides a short summary, ignoring text that might be navigation related. \\\n",
    "Respond in markdown.\"\n",
    "\n",
    "def user_prompt_for(website):\n",
    "    user_prompt = f\"You are looking at a website titled {website.title}\"\n",
    "    user_prompt += \"\\nThe contents of this website is as follows; \\\n",
    "please provide a short summary of this website in markdown. \\\n",
    "If it includes news or announcements, then summarize these too.\\n\\n\"\n",
    "    user_prompt += website.text\n",
    "    return user_prompt\n"
   ]
  },
  {
   "cell_type": "code",
   "execution_count": 41,
   "id": "47acc05d",
   "metadata": {},
   "outputs": [],
   "source": [
    "def messages_for(website):\n",
    "    return [\n",
    "        {\"role\": \"system\", \"content\": system_prompt},\n",
    "        {\"role\": \"user\", \"content\": user_prompt_for(website)}\n",
    "    ]"
   ]
  },
  {
   "cell_type": "code",
   "execution_count": 42,
   "id": "2c2cc401",
   "metadata": {},
   "outputs": [],
   "source": [
    "def summarize(url):\n",
    "    website = Website(url)\n",
    "    response = ollama_via_openai.chat.completions.create(\n",
    "        model=MODEL,\n",
    "        messages = messages_for(website)\n",
    "    )\n",
    "    return response.choices[0].message.content"
   ]
  },
  {
   "cell_type": "code",
   "execution_count": 44,
   "id": "24ec3fd7",
   "metadata": {},
   "outputs": [],
   "source": [
    "def display_summary(url):\n",
    "    summary = summarize(url)\n",
    "    display(Markdown(summary))"
   ]
  },
  {
   "cell_type": "code",
   "execution_count": 45,
   "id": "396f4867",
   "metadata": {},
   "outputs": [
    {
     "data": {
      "text/markdown": [
       "This text appears to be a philosophical and practical guide to achieving financial independence, with a focus on living a life of purpose and fulfillment rather than just accumulating wealth. Here are some key takeaways from the text:\n",
       "\n",
       "**Key principles:**\n",
       "\n",
       "1. **Be clear-eyed about what you want**: Recognize that wealth is not everything and make a commitment to create a life that aligns with your values.\n",
       "2. **Live below means, earn above wants**: Focus on achieving financial independence through frugality and investing, rather than chasing the latest luxury items or lifestyle upgrades.\n",
       "3. **Invest for the future, not just for today**: Build wealth over time, rather than trying to make quick money through get-rich-quick schemes or excessive risk-taking.\n",
       "\n",
       "**Tips:**\n",
       "\n",
       "1. **Cut back on unnecessary expenses**: Identify areas where you can reduce spending and allocate that money towards your goals.\n",
       "2. **Be intentional with your investments**: Consider investing carefully and avoid getting caught up in emotional decision-making.\n",
       "3. **Live below your means, invest elsewhere**: Focus on growing wealth through solid investments, rather than trying to save more or spend less.\n",
       "\n",
       "**Lessons:**\n",
       "\n",
       "1. **Passion versus energy**: Recognize that passion is easy to get involved in, but energy for making a real difference through investing and hard work matters.\n",
       "2. **The importance of intentionality**: Understand the psychological barriers to financial success, including emotions and behavioral biases, and take steps to overcome them.\n",
       "\n",
       "**Conclusion:**\n",
       "\n",
       "Financial independence requires a mindset shift from pursuit-fueled consumption to focused investment and long-term planning. By living by design, rejecting the default of constantly wanting more, and prioritizing true fulfillment above wealth accumulation, individuals can create a life that is richer in every way – financially, emotionally, and spiritually."
      ],
      "text/plain": [
       "<IPython.core.display.Markdown object>"
      ]
     },
     "metadata": {},
     "output_type": "display_data"
    }
   ],
   "source": [
    "display_summary(\"https://www.sahilbloom.com/newsletter/my-honest-advice-to-someone-who-wants-to-make-a-lot-of-money\")"
   ]
  }
 ],
 "metadata": {
  "kernelspec": {
   "display_name": "llms",
   "language": "python",
   "name": "python3"
  },
  "language_info": {
   "codemirror_mode": {
    "name": "ipython",
    "version": 3
   },
   "file_extension": ".py",
   "mimetype": "text/x-python",
   "name": "python",
   "nbconvert_exporter": "python",
   "pygments_lexer": "ipython3",
   "version": "3.11.11"
  }
 },
 "nbformat": 4,
 "nbformat_minor": 5
}
